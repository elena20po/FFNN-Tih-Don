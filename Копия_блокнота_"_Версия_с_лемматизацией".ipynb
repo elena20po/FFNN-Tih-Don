{
  "cells": [
    {
      "cell_type": "markdown",
      "metadata": {
        "id": "view-in-github",
        "colab_type": "text"
      },
      "source": [
        "<a href=\"https://colab.research.google.com/github/elena20po/FFNN-Tih-Don/blob/main/%D0%9A%D0%BE%D0%BF%D0%B8%D1%8F_%D0%B1%D0%BB%D0%BE%D0%BA%D0%BD%D0%BE%D1%82%D0%B0_%22_%D0%92%D0%B5%D1%80%D1%81%D0%B8%D1%8F_%D1%81_%D0%BB%D0%B5%D0%BC%D0%BC%D0%B0%D1%82%D0%B8%D0%B7%D0%B0%D1%86%D0%B8%D0%B5%D0%B9%22.ipynb\" target=\"_parent\"><img src=\"https://colab.research.google.com/assets/colab-badge.svg\" alt=\"Open In Colab\"/></a>"
      ]
    },
    {
      "cell_type": "code",
      "execution_count": null,
      "metadata": {
        "colab": {
          "base_uri": "https://localhost:8080/"
        },
        "id": "JL9ACg_c0TwS",
        "outputId": "8e5f6f65-915b-4e49-c732-992db1e1d755"
      },
      "outputs": [
        {
          "output_type": "stream",
          "name": "stdout",
          "text": [
            "Looking in indexes: https://pypi.org/simple, https://us-python.pkg.dev/colab-wheels/public/simple/\n",
            "Requirement already satisfied: pymorphy2 in /usr/local/lib/python3.10/dist-packages (0.9.1)\n",
            "Requirement already satisfied: dawg-python>=0.7.1 in /usr/local/lib/python3.10/dist-packages (from pymorphy2) (0.7.2)\n",
            "Requirement already satisfied: docopt>=0.6 in /usr/local/lib/python3.10/dist-packages (from pymorphy2) (0.6.2)\n",
            "Requirement already satisfied: pymorphy2-dicts-ru<3.0,>=2.4 in /usr/local/lib/python3.10/dist-packages (from pymorphy2) (2.4.417127.4579844)\n"
          ]
        }
      ],
      "source": [
        "from google.colab import files\n",
        "import numpy as np\n",
        "import pandas as pd\n",
        "import os\n",
        "import matplotlib.pyplot as plt\n",
        "%matplotlib inline\n",
        "from tensorflow.keras import utils\n",
        "from tensorflow.keras.models import Sequential\n",
        "from tensorflow.keras.layers import Dense, Dropout, SpatialDropout1D, BatchNormalization, Embedding, Flatten, Activation, SimpleRNN\n",
        "from tensorflow.keras.optimizers import Adam\n",
        "from tensorflow.keras.optimizers import RMSprop\n",
        "from keras.preprocessing.text import Tokenizer, text_to_word_sequence\n",
        "from sklearn.model_selection import train_test_split\n",
        "from keras.utils import to_categorical\n",
        "!pip install pymorphy2\n",
        "import pymorphy2\n",
        "morph = pymorphy2.MorphAnalyzer()"
      ]
    },
    {
      "cell_type": "code",
      "execution_count": null,
      "metadata": {
        "id": "DahAMQBLFw17"
      },
      "outputs": [],
      "source": [
        "def norm(text):\n",
        "  words = text.split()\n",
        "  newtext = ''\n",
        "  for w in words:\n",
        "    wn = morph.parse(w)[0].normal_form\n",
        "    newtext = newtext + wn + ' '\n",
        "  return newtext #text"
      ]
    },
    {
      "cell_type": "markdown",
      "source": [],
      "metadata": {
        "id": "TgCBZJlSS4Bm"
      }
    },
    {
      "cell_type": "code",
      "execution_count": null,
      "metadata": {
        "colab": {
          "base_uri": "https://localhost:8080/"
        },
        "id": "tJtHvKHn9G4b",
        "outputId": "08c8e34c-0f6d-42fc-c8dd-73ed5cd3276a"
      },
      "outputs": [
        {
          "output_type": "stream",
          "name": "stdout",
          "text": [
            "иван родить и бегать \n"
          ]
        }
      ],
      "source": [
        "print(norm(\"Иван родил и бегал\"))"
      ]
    },
    {
      "cell_type": "code",
      "execution_count": null,
      "metadata": {
        "colab": {
          "base_uri": "https://localhost:8080/"
        },
        "id": "zYYbnTNW0YEc",
        "outputId": "136d9d04-cfe7-443e-b05d-66f7e3a103dc"
      },
      "outputs": [
        {
          "output_type": "stream",
          "name": "stdout",
          "text": [
            "Mycontent  sample_data\n"
          ]
        }
      ],
      "source": [
        " !ls"
      ]
    },
    {
      "cell_type": "code",
      "execution_count": null,
      "metadata": {
        "id": "JeflDhEc0Yb1"
      },
      "outputs": [],
      "source": [
        "filename = \"Writers_texts1.zip\""
      ]
    },
    {
      "cell_type": "code",
      "execution_count": null,
      "metadata": {
        "colab": {
          "base_uri": "https://localhost:8080/"
        },
        "id": "Pximz0raA9qZ",
        "outputId": "2dedb602-f1ae-4d80-b5fb-348cca99bea5"
      },
      "outputs": [
        {
          "output_type": "stream",
          "name": "stdout",
          "text": [
            "/content/Mycontent/Testtext\n"
          ]
        }
      ],
      "source": [
        "cd /content/Mycontent/Testtext"
      ]
    },
    {
      "cell_type": "code",
      "execution_count": null,
      "metadata": {
        "colab": {
          "base_uri": "https://localhost:8080/"
        },
        "id": "61RT_lae1Qea",
        "outputId": "3dc58ab5-f8c8-43ab-8446-af0399665760"
      },
      "outputs": [
        {
          "output_type": "stream",
          "name": "stdout",
          "text": [
            "Archive:  Writers_texts1.zip\n",
            "replace (Александр Серафимович) Обучающая_2 вместе.txt? [y]es, [n]o, [A]ll, [N]one, [r]ename: y\n",
            "  inflating: (Александр Серафимович) Обучающая_2 вместе.txt  \n",
            "replace (Александр Серафимович) Тестовая_2 вместе.txt? [y]es, [n]o, [A]ll, [N]one, [r]ename: y\n",
            "  inflating: (Александр Серафимович) Тестовая_2 вместе.txt  \n",
            "replace (Андрей Платонов) Обучающая.txt? [y]es, [n]o, [A]ll, [N]one, [r]ename: y\n",
            "  inflating: (Андрей Платонов) Обучающая.txt  \n",
            "replace (Андрей Платонов) Тестовая.txt? [y]es, [n]o, [A]ll, [N]one, [r]ename: y\n",
            "  inflating: (Андрей Платонов) Тестовая.txt  \n",
            "replace (Максим Горький) Обучающая.txt? [y]es, [n]o, [A]ll, [N]one, [r]ename: y\n",
            "  inflating: (Максим Горький) Обучающая.txt  \n",
            "replace (Максим Горький) Тестовая.txt? [y]es, [n]o, [A]ll, [N]one, [r]ename: yy\n",
            "  inflating: (Максим Горький) Тестовая.txt  \n",
            "replace (Михаил Булгаков ) Обучающая.txt? [y]es, [n]o, [A]ll, [N]one, [r]ename: y\n",
            "  inflating: (Михаил Булгаков ) Обучающая.txt  \n",
            "replace (Михаил Булгаков) Тестовая.txt? [y]es, [n]o, [A]ll, [N]one, [r]ename: y\n",
            "  inflating: (Михаил Булгаков) Тестовая.txt  \n",
            "replace (Михаил Шолохов) Обучающая.txt? [y]es, [n]o, [A]ll, [N]one, [r]ename: y\n",
            "  inflating: (Михаил Шолохов) Обучающая.txt  \n",
            "replace (Михаил Шолохов) Тестовая.txt? [y]es, [n]o, [A]ll, [N]one, [r]ename: y\n",
            "  inflating: (Михаил Шолохов) Тестовая.txt  \n",
            "replace (Федор Крюков) Обучающая_12 вместе.txt? [y]es, [n]o, [A]ll, [N]one, [r]ename: y\n",
            "  inflating: (Федор Крюков) Обучающая_12 вместе.txt  \n",
            "replace (Федор Крюков) Тестовая_9 вместе.txt? [y]es, [n]o, [A]ll, [N]one, [r]ename: y\n",
            "  inflating: (Федор Крюков) Тестовая_9 вместе.txt  \n"
          ]
        }
      ],
      "source": [
        "!unzip $filename"
      ]
    },
    {
      "cell_type": "code",
      "execution_count": null,
      "metadata": {
        "id": "cOKE61s51ZlS"
      },
      "outputs": [],
      "source": [
        "def replaceMultiple(mainString, toBeReplaces, newString):\n",
        "    # Iterate over the strings to be replaced\n",
        "    for elem in toBeReplaces:\n",
        "        # Check if string is in the main string\n",
        "        if elem in mainString:\n",
        "            # Replace the string\n",
        "            mainString = mainString.replace(elem, newString)\n",
        "    \n",
        "    return  mainString"
      ]
    },
    {
      "cell_type": "code",
      "execution_count": null,
      "metadata": {
        "colab": {
          "base_uri": "https://localhost:8080/"
        },
        "id": "ySzD7zxE1qwi",
        "outputId": "b229e0b4-db4c-459a-86c3-126a42fab96a"
      },
      "outputs": [
        {
          "output_type": "stream",
          "name": "stdout",
          "text": [
            "Тестовая   запись   верна\n"
          ]
        }
      ],
      "source": [
        "txt = replaceMultiple(\"Тестовая - запись — верна\", ['\\n\\r', '\\n', '\\r', '-', '—'] , \" \")\n",
        "print(txt)"
      ]
    },
    {
      "cell_type": "code",
      "execution_count": null,
      "metadata": {
        "id": "HoRfRkbi1wzy"
      },
      "outputs": [],
      "source": [
        "def readText(fileName): #функция принимает имя файла\n",
        "  f = open(fileName, 'r')        #открываем файла в режиме чтения\n",
        "  text = f.read()                #читаем текст\n",
        "  text = replaceMultiple(text, ['\\n\\r', '\\n', '\\r', '\\xa0'] , \" \") #заменяем переносы и спецсимволы разделителей на пробелы\n",
        "  #return text                    #функция возвращает текст файла\n",
        "  return norm(text)                    #функция возвращает текст файла"
      ]
    },
    {
      "cell_type": "code",
      "execution_count": null,
      "metadata": {
        "id": "nTTpxDYW12Ty"
      },
      "outputs": [],
      "source": [
        "#Загружаем обучающие тексты\n",
        "trainText = []\n",
        "trainText.append(readText('(Александр Серафимович) Обучающая_2 вместе.txt'))\n",
        "trainText.append(readText('(Андрей Платонов) Обучающая.txt'))\n",
        "trainText.append(readText('(Максим Горький) Обучающая.txt'))\n",
        "trainText.append(readText('(Михаил Булгаков ) Обучающая.txt'))\n",
        "trainText.append(readText('(Михаил Шолохов) Обучающая.txt'))\n",
        "trainText.append(readText('(Федор Крюков) Обучающая_12 вместе.txt'))\n",
        "className = [\"Александр Серафимович\", \"Андрей Платонов\", \"Максим Горький\", \"Михаил Булгаков\", \"Михаил Шолохов\", \"Федор Крюков\"]\n",
        "nClasses = len(className)\n"
      ]
    },
    {
      "cell_type": "code",
      "execution_count": null,
      "metadata": {
        "colab": {
          "base_uri": "https://localhost:8080/"
        },
        "id": "QSPmFEYq2D1j",
        "outputId": "5f8bec33-1f20-41ea-8c3a-0241d3f1e0f6"
      },
      "outputs": [
        {
          "output_type": "stream",
          "name": "stdout",
          "text": [
            "Длина обучающего текста Александр Серафимович \t 289912 \tПроверочного: \t 293302\n",
            "Длина обучающего текста Андрей Платонов \t 1237798 \tПроверочного: \t 537118\n",
            "Длина обучающего текста Максим Горький \t 465486 \tПроверочного: \t 2115967\n",
            "Длина обучающего текста Михаил Булгаков \t 744128 \tПроверочного: \t 165437\n",
            "Длина обучающего текста Михаил Шолохов \t 1310238 \tПроверочного: \t 1564079\n",
            "Длина обучающего текста Федор Крюков \t 750871 \tПроверочного: \t 615867\n"
          ]
        }
      ],
      "source": [
        "#Загружаем тестовые тексты\n",
        "testText = []\n",
        "testText.append(readText('(Александр Серафимович) Тестовая_2 вместе.txt'))\n",
        "testText.append(readText('(Андрей Платонов) Тестовая.txt'))\n",
        "testText.append(readText('(Максим Горький) Тестовая.txt'))\n",
        "testText.append(readText('(Михаил Булгаков) Тестовая.txt'))\n",
        "testText.append(readText('(Михаил Шолохов) Тестовая.txt'))\n",
        "testText.append(readText('(Федор Крюков) Тестовая_9 вместе.txt'))\n",
        "#Смотрим размеры загруженных выборок\n",
        "for i in range(len(trainText)):\n",
        "  print(\"Длина обучающего текста\", className[i], \"\\t\", len(trainText[i]), \"\\tПроверочного:\", \"\\t\", len(testText[i]))"
      ]
    },
    {
      "cell_type": "code",
      "execution_count": null,
      "metadata": {
        "id": "fPckqVBQbjX-",
        "colab": {
          "base_uri": "https://localhost:8080/"
        },
        "outputId": "4cda43db-636f-44e8-8458-db57151e803e"
      },
      "outputs": [
        {
          "output_type": "stream",
          "name": "stdout",
          "text": [
            "[('и', 1), ('в', 2), ('он', 3), ('не', 4), ('на', 5), ('с', 6), ('а', 7), ('что', 8), ('я', 9), ('быть', 10), ('она', 11), ('как', 12), ('то', 13), ('ты', 14), ('к', 15), ('по', 16), ('они', 17), ('это', 18), ('но', 19), ('за', 20), ('у', 21), ('свой', 22), ('из', 23), ('всё', 24), ('от', 25), ('же', 26), ('так', 27), ('вы', 28), ('один', 29), ('весь', 30), ('мы', 31), ('этот', 32), ('о', 33), ('сказать', 34), ('человек', 35), ('какой', 36), ('вот', 37), ('бы', 38), ('да', 39), ('тот', 40), ('сам', 41), ('себя', 42), ('уже', 43), ('когда', 44), ('который', 45), ('до', 46), ('стать', 47), ('ещё', 48), ('только', 49), ('ну', 50), ('под', 51), ('кто', 52), ('ни', 53), ('давыдов', 54), ('такой', 55), ('чтобы', 56), ('мочь', 57), ('рука', 58), ('нет', 59), ('где', 60), ('для', 61), ('глаз', 62), ('или', 63), ('теперь', 64), ('говорить', 65), ('тут', 66), ('время', 67), ('без', 68), ('там', 69), ('идти', 70), ('два', 71), ('надо', 72), ('лицо', 73), ('дело', 74), ('мой', 75), ('жить', 76), ('есть', 77), ('потом', 78), ('другой', 79), ('день', 80), ('спросить', 81), ('через', 82), ('раз', 83), ('голова', 84), ('даже', 85), ('ничего', 86), ('над', 87), ('яков', 88), ('тогда', 89), ('жизнь', 90), ('наш', 91), ('его', 92), ('чем', 93), ('большой', 94), ('ли', 95), ('пойти', 96), ('опять', 97), ('голос', 98), ('уж', 99), ('нибудь', 100)]\n"
          ]
        }
      ],
      "source": [
        "maxWordsCount = 30000 #макс. кол-во слов/индексов для обучения текстов\n",
        "tokenizer = Tokenizer(num_words=maxWordsCount, filters='!–\"—#$%&amp;amp;()*+,-./:;&amp;lt;=>?@[\\\\]^_`{|}~\\t\\n\\r«»', lower=True, split=' ', char_level=False)\n",
        "tokenizer.fit_on_texts(trainText) #передаем тексты для получения токенов отсортированных по частоте повторяемости в количестве maxWordsCount\n",
        "items = list(tokenizer.word_index.items()) #берем индексы слов для просмотра\n",
        "print(items[:100])"
      ]
    },
    {
      "cell_type": "code",
      "execution_count": null,
      "metadata": {
        "colab": {
          "base_uri": "https://localhost:8080/",
          "height": 451
        },
        "id": "lxkW62Tp3dNG",
        "outputId": "561bafe3-97dc-46fb-c60e-e63ca3fa6ea6"
      },
      "outputs": [
        {
          "output_type": "stream",
          "name": "stdout",
          "text": [
            "График частоты слов\n"
          ]
        },
        {
          "output_type": "display_data",
          "data": {
            "text/plain": [
              "<Figure size 640x480 with 1 Axes>"
            ],
            "image/png": "[encoded data removed]"
          },
          "metadata": {}
        }
      ],
      "source": [
        "print(\"График частоты слов\")\n",
        "foo=[]\n",
        "for w in items:\n",
        "  foo.append(tokenizer.word_counts[w[0]])\n",
        "plt.plot(foo)\n",
        "plt.loglog()\n",
        "plt.show()"
      ]
    },
    {
      "cell_type": "code",
      "execution_count": null,
      "metadata": {
        "colab": {
          "base_uri": "https://localhost:8080/"
        },
        "id": "MfCmvJsO2mhf",
        "outputId": "62d4ec14-fb2b-4f8b-f8f2-27a2fab62655"
      },
      "outputs": [
        {
          "output_type": "stream",
          "name": "stdout",
          "text": [
            "1\n",
            "6\n",
            "30788\n"
          ]
        }
      ],
      "source": [
        "print(tokenizer.word_index['и']) #позиция/индекс слова в массиве токенов\n",
        "print(tokenizer.word_docs['и']) #в скольких источниках встретилось слово\n",
        "print(tokenizer.word_counts['и']) #количество повторений слов\n"
      ]
    },
    {
      "cell_type": "code",
      "execution_count": null,
      "metadata": {
        "colab": {
          "base_uri": "https://localhost:8080/"
        },
        "id": "8w3s3fZs2t9Y",
        "outputId": "35972896-833f-46a7-e785-000e5c03ef60"
      },
      "outputs": [
        {
          "output_type": "stream",
          "name": "stdout",
          "text": [
            "[('серафимович', 7), ('александр', 60), ('бабий', 55), ('деревня', 83), ('это', 4336), ('быть', 6775), ('в', 20435), ('восемнадцатый', 11), ('году', 31), ('по', 4385), ('кочка', 3), ('и', 30788), ('корневище', 8), ('долго', 383), ('ехать', 162), ('сергей', 84), ('куда', 492), ('ни', 1285), ('глянешь', 2), ('пни', 5), ('вырубка', 1), ('или', 1107), ('глухие', 2), ('молчаливый', 46), ('сосны', 7), ('дикий', 59), ('место', 447), ('от', 3231), ('железный', 134), ('дорога', 295)]\n",
            "максим горький дело артамонов i год через два после воля (т.е. после отмена крепостной право в 1861 г. - ред.), за обедня в день преображение господни\n"
          ]
        }
      ],
      "source": [
        "dist = list(tokenizer.word_counts.items())#вывод предложений с частотой для каждого слова\n",
        "print(dist[:30])\n",
        "print(trainText[2][:150])"
      ]
    },
    {
      "cell_type": "code",
      "execution_count": null,
      "metadata": {
        "colab": {
          "base_uri": "https://localhost:8080/"
        },
        "id": "61CpFxshbDTk",
        "outputId": "93837c8d-0f98-4c0c-f4a4-d5e5dee12978"
      },
      "outputs": [
        {
          "output_type": "stream",
          "name": "stdout",
          "text": [
            "10433\n",
            "['глянешь', 'глухие', 'кнутовищем', 'блюдце', 'медком', 'разоряют', 'колчака', 'погнали', 'послышим', 'загнала', 'чижолый', 'справишься', 'изз', 'комитета', 'белена', 'красными', 'опали', 'голодно', 'многосемейный', 'галдели', 'бесперечь', 'плуги', 'запрягем', 'нукай', 'выпали', 'напечь', 'моем', 'работай', 'детишками', 'кажной', 'герои', 'захлопать', 'надоумил', 'переговариваться', 'електричество', 'дохтор', 'мельнице', 'приснился', 'взбеленился', 'устроили', 'спросясь', 'возбужденные', 'лопнул', 'обороняться', 'отряхнуться', 'укатать', 'споро', 'кэ', 'обмёрзнуть', 'пе', 'родителям', 'хмыкал', 'сборник', 'новь', 'охриплый', 'матку', 'тысячеголосый', 'торговцев', 'переселенцев', 'люльки', 'подвешивать', 'повылазило', 'вышина', 'арбами', 'неохватить', 'гимнастерках', 'воронёный', 'батальонные', 'ротные', 'дослужиться', 'парикмахеры', 'рыбак', 'вашу', 'свинца', 'шила', 'надсаживаясь', 'сказывали', 'потянулись', 'було', 'неприкаянный', 'отдалиться', 'кричащий', 'пулемётчик', 'вмисть', 'козачий', 'матроске', 'выдраться', 'штыком', 'цю', 'шейка', 'батальонному', 'повернулись', 'жнивью', 'скоку', 'зачернелось', 'бачьте', 'куль', 'вздыбиться', 'красны', 'охрим']\n"
          ]
        }
      ],
      "source": [
        "count_thres = 3 #кол-во раз меньше которого слово нужно исключить из списка  \n",
        "low_count_words = [w for w,c in tokenizer.word_counts.items() if c < count_thres] #создаем список слов встречаюихся менее count_thres \n",
        "print(len(low_count_words))\n",
        "print(low_count_words[:100])\n",
        "for w in low_count_words: #удаляем такие слова из исходного списка\n",
        "    del tokenizer.word_index[w]\n",
        "    del tokenizer.word_docs[w]\n",
        "    del tokenizer.word_counts[w]"
      ]
    },
    {
      "cell_type": "code",
      "execution_count": null,
      "metadata": {
        "id": "QKAi4oE_-JFU"
      },
      "outputs": [],
      "source": [
        "items = list(tokenizer.word_index.items()) #берем индексы слов для просмотра"
      ]
    },
    {
      "cell_type": "code",
      "execution_count": null,
      "metadata": {
        "colab": {
          "base_uri": "https://localhost:8080/"
        },
        "id": "lu2leOemztL9",
        "outputId": "9d19a011-1ecf-46f6-9e28-b3dad927ba3e"
      },
      "outputs": [
        {
          "output_type": "stream",
          "name": "stdout",
          "text": [
            "В словаре осталось  22997  слов\n"
          ]
        }
      ],
      "source": [
        "print(\"В словаре осталось \", len(tokenizer.word_counts.items()), \" слов\")"
      ]
    },
    {
      "cell_type": "code",
      "execution_count": null,
      "metadata": {
        "colab": {
          "base_uri": "https://localhost:8080/",
          "height": 451
        },
        "id": "aUT6xGtr9wIL",
        "outputId": "c872d25a-9433-4b21-b1bb-92f41cdba368"
      },
      "outputs": [
        {
          "output_type": "stream",
          "name": "stdout",
          "text": [
            "График частоты слов после удаления наименее частых\n"
          ]
        },
        {
          "output_type": "display_data",
          "data": {
            "text/plain": [
              "<Figure size 640x480 with 1 Axes>"
            ],
            "image/png": "[encoded data removed]"
          },
          "metadata": {}
        }
      ],
      "source": [
        "print(\"График частоты слов после удаления наименее частых\")\n",
        "foo=[]\n",
        "for w in items:\n",
        "  foo.append(tokenizer.word_counts[w[0]])\n",
        "plt.plot(foo)\n",
        "plt.loglog()\n",
        "plt.show()"
      ]
    },
    {
      "cell_type": "code",
      "execution_count": null,
      "metadata": {
        "colab": {
          "base_uri": "https://localhost:8080/"
        },
        "id": "sk5ovlIN27yi",
        "outputId": "b4e67868-87d9-408a-d45e-766b3731a930"
      },
      "outputs": [
        {
          "output_type": "stream",
          "name": "stdout",
          "text": [
            "Исходный текст:\t\t серафимович александр бабий деревня александр серафимович бабий деревня это быть в восемнадцатый \n",
            "Он же в виде последовательности индексов:\t [9540, 1307, 1414, 917, 1307, 9540, 1414, 917, 18, 10, 2, 6628, 2550, 16, 17746, 1, 8596, 173, 449, 907]\n"
          ]
        }
      ],
      "source": [
        "#словари для каждого автора\n",
        "trainWordIndexes = tokenizer.texts_to_sequences(trainText) #обучающие тесты в индексы\n",
        "testWordIndexes = tokenizer.texts_to_sequences(testText)  #проверочные тесты в индексы\n",
        "print(\"Исходный текст:\\t\\t\", trainText[0] [:97])\n",
        "print(\"Он же в виде последовательности индексов:\\t\", trainWordIndexes[0][:20])"
      ]
    },
    {
      "cell_type": "code",
      "execution_count": null,
      "metadata": {
        "colab": {
          "base_uri": "https://localhost:8080/"
        },
        "id": "iDwO6kPWtf3g",
        "outputId": "79a05b0e-af56-41d4-c37f-ab6ec9df0def"
      },
      "outputs": [
        {
          "output_type": "stream",
          "name": "stdout",
          "text": [
            "\n",
            "Статистика по обучающим текстам:\n",
            "Александр Серафимович \t 289912 символов, 39403  слов\n",
            "Андрей Платонов \t 1237798 символов, 184320  слов\n",
            "Максим Горький \t 465486 символов, 67042  слов\n",
            "Михаил Булгаков \t 744128 символов, 106883  слов\n",
            "Михаил Шолохов \t 1310238 символов, 189783  слов\n",
            "Федор Крюков \t 750871 символов, 102817  слов\n"
          ]
        }
      ],
      "source": [
        "print() \n",
        "print(\"Статистика по обучающим текстам:\") \n",
        "symbs = 0; \n",
        "words = 0; \n",
        "for i in range(len(trainText)): \n",
        "  print(className[i], \"\\t\", len(trainText[i]), \"символов,\", len(trainWordIndexes[i]), \" слов\") \n",
        "  symbs += len(trainText[i]) \n",
        "  words += len(trainWordIndexes[i])"
      ]
    },
    {
      "cell_type": "code",
      "execution_count": null,
      "metadata": {
        "colab": {
          "base_uri": "https://localhost:8080/"
        },
        "id": "LwRwJioQtpcW",
        "outputId": "02f5e614-d5d7-4af1-cf4d-748eac227b01"
      },
      "outputs": [
        {
          "output_type": "stream",
          "name": "stdout",
          "text": [
            "\n",
            "Статистика по проверочным текстам:\n",
            "Александр Серафимович \t 293302  символов,  38971  слов\n",
            "Андрей Платонов \t 537118  символов,  71393  слов\n",
            "Максим Горький \t 2115967  символов,  273342  слов\n",
            "Михаил Булгаков \t 165437  символов,  21278  слов\n",
            "Михаил Шолохов \t 1564079  символов,  205348  слов\n",
            "Федор Крюков \t 615867  символов,  79558  слов\n"
          ]
        }
      ],
      "source": [
        "print() \n",
        "print(\"Статистика по проверочным текстам:\") \n",
        "symbs = 0; \n",
        "words = 0; \n",
        "for i in range(len(testText)): \n",
        "  print(className[i], \"\\t\", len(testText[i]), \" символов, \", len(testWordIndexes[i]), \" слов\") \n",
        "  symbs += len(testText[i]) \n",
        "  words += len(testWordIndexes[i])"
      ]
    },
    {
      "cell_type": "code",
      "execution_count": null,
      "metadata": {
        "id": "xPPhe0Dhs6Df"
      },
      "outputs": [],
      "source": [
        "###########################\n",
        "# Формирование обучающей выборки по листу индексов слов\n",
        "# (разделение на короткие векторы)\n",
        "##########################\n",
        "def getSetFromIndexes(wordIndexes, xLen, shift):\n",
        "  xSample = []\n",
        "  wordsLen = len(wordIndexes)\n",
        "  index = 0\n",
        "  \n",
        "  #Идём по всей длине вектора индексов\n",
        "  #\"Выбираем\" блоки текст длины xLen и смещаемся вперёд на shift\n",
        "  while (index + xLen <= wordsLen):\n",
        "    xSample.append(wordIndexes[index:index+xLen])\n",
        "    index += shift\n",
        "    \n",
        "  return xSample"
      ]
    },
    {
      "cell_type": "code",
      "execution_count": null,
      "metadata": {
        "colab": {
          "base_uri": "https://localhost:8080/",
          "height": 165
        },
        "id": "EtdxZcQswQn-",
        "outputId": "c8f6d56c-ee0a-472b-eb53-44fcc0b37bc1"
      },
      "outputs": [
        {
          "output_type": "error",
          "ename": "NameError",
          "evalue": "ignored",
          "traceback": [
            "\u001b[0;31m---------------------------------------------------------------------------\u001b[0m",
            "\u001b[0;31mNameError\u001b[0m                                 Traceback (most recent call last)",
            "\u001b[0;32m<ipython-input-2-1955d3013de3>\u001b[0m in \u001b[0;36m<cell line: 1>\u001b[0;34m()\u001b[0m\n\u001b[0;32m----> 1\u001b[0;31m \u001b[0mprint\u001b[0m\u001b[0;34m(\u001b[0m\u001b[0mmax\u001b[0m\u001b[0;34m(\u001b[0m\u001b[0mtrainWordIndexes\u001b[0m\u001b[0;34m[\u001b[0m\u001b[0;36m0\u001b[0m\u001b[0;34m]\u001b[0m\u001b[0;34m)\u001b[0m\u001b[0;34m)\u001b[0m\u001b[0;34m\u001b[0m\u001b[0;34m\u001b[0m\u001b[0m\n\u001b[0m",
            "\u001b[0;31mNameError\u001b[0m: name 'trainWordIndexes' is not defined"
          ]
        }
      ],
      "source": [
        "print(max(trainWordIndexes[0]))"
      ]
    },
    {
      "cell_type": "code",
      "execution_count": null,
      "metadata": {
        "colab": {
          "base_uri": "https://localhost:8080/"
        },
        "id": "e8yj7Umoty0_",
        "outputId": "3b811414-3ea1-4207-ca58-27866619e474"
      },
      "outputs": [
        {
          "output_type": "stream",
          "name": "stdout",
          "text": [
            "39403\n",
            "(39403, 18545)\n",
            "[9540, 1307, 1414, 917, 1307, 9540, 1414, 917, 18, 10]\n",
            "[[0. 0. 0. ... 0. 0. 0.]\n",
            " [0. 0. 0. ... 0. 0. 0.]\n",
            " [0. 0. 0. ... 0. 0. 0.]\n",
            " ...\n",
            " [0. 0. 0. ... 0. 0. 0.]\n",
            " [0. 0. 0. ... 0. 0. 0.]\n",
            " [0. 0. 0. ... 0. 0. 0.]]\n"
          ]
        }
      ],
      "source": [
        "arr = to_categorical(trainWordIndexes[0])\n",
        "print(len(trainWordIndexes[0]))\n",
        "print(arr.shape)\n",
        "print(trainWordIndexes[0][:10])\n",
        "print(arr[:20])\n"
      ]
    },
    {
      "cell_type": "code",
      "execution_count": null,
      "metadata": {
        "id": "HibJ-1l9uCCX"
      },
      "outputs": [],
      "source": [
        "def createSetsMultiClasses(wordIndexes, xLen, step):\n",
        "  #Для каждого из классов создаём обучающую/проверочную выборку из индексов\n",
        "  nClasses = len(wordIndexes) #задаем количество классов выборки\n",
        "  xSamples = [] #здесь будет список размером \"суммарное кол-во окон во всех текстах*длину окна(например 15779*1000)\"\n",
        "  ySamples = [] #здесь будет список размером \"суммарное кол-во окон во всех текстах*вектор длиной по количеству классов\" \n",
        "  for t, wI in enumerate(wordIndexes):  \n",
        "    tmp = getSetFromIndexes(wI, xLen, step) #получаем список индексов, разбитый на \"кол-во окон * длину окна\" \n",
        "    xSamples += tmp\n",
        "    ySamples += [utils.to_categorical(t, nClasses).tolist()] * len(tmp)\n",
        "    \n",
        "  return (np.array(xSamples), np.array(ySamples))  "
      ]
    },
    {
      "cell_type": "code",
      "execution_count": null,
      "metadata": {
        "colab": {
          "base_uri": "https://localhost:8080/"
        },
        "id": "QYUDNA1suUFv",
        "outputId": "16735750-52e5-48ba-86bb-dd02d30adb30"
      },
      "outputs": [
        {
          "output_type": "stream",
          "name": "stdout",
          "text": [
            "(6486, 7000)\n",
            "(6486, 6)\n",
            "(6481, 7000)\n",
            "(6481, 6)\n"
          ]
        }
      ],
      "source": [
        "#Задаём базовые параметры\n",
        "xLen = 7000 #Длина отрезка текста в результирующемвекторе в словах\n",
        "shift= 100 #Смещение окна для разбиения исходного текста на обучающие вектора\n",
        "xTrain, yTrain = createSetsMultiClasses(trainWordIndexes, xLen, shift) #Формируем обучающую выборку\n",
        "xTest, yTest = createSetsMultiClasses(testWordIndexes, xLen, shift)    #Формируем тестовую выборку\n",
        "print(xTrain.shape)\n",
        "print(yTrain.shape)\n",
        "print(xTest.shape)\n",
        "print(yTest.shape)\n"
      ]
    },
    {
      "cell_type": "code",
      "execution_count": null,
      "metadata": {
        "colab": {
          "base_uri": "https://localhost:8080/"
        },
        "id": "_ZfUBcM5ugPP",
        "outputId": "8e59879a-3aef-4659-ec9f-292eb4ba790f"
      },
      "outputs": [
        {
          "output_type": "stream",
          "name": "stdout",
          "text": [
            "(6486, 30000)\n",
            "[0. 1. 1. 1. 1. 1. 1. 1. 1. 0. 1. 1. 0. 1. 0. 1. 1. 1. 1. 0.]\n"
          ]
        }
      ],
      "source": [
        "xTrain01 = tokenizer.sequences_to_matrix(xTrain.tolist()) #Конвертируем xTrain в список перед передачей методу\n",
        "xTest01 = tokenizer.sequences_to_matrix(xTest.tolist()) #Конвертируем xTest в список перед передачей методу\n",
        "print(xTrain01.shape)       #Размер обучающей выборки, сформированной по Bag of Words\n",
        "print(xTrain01[0][100:120]) #фрагмент набора слов в виде Bag of Words"
      ]
    },
    {
      "cell_type": "code",
      "execution_count": null,
      "metadata": {
        "colab": {
          "base_uri": "https://localhost:8080/"
        },
        "id": "Vd3FA6cTEIIu",
        "outputId": "7fcbd3c8-32bf-4cd8-b102-eb5bed0e8723"
      },
      "outputs": [
        {
          "output_type": "stream",
          "name": "stdout",
          "text": [
            "Подсчитаем количество единичек в первом блоке -  2444\n"
          ]
        }
      ],
      "source": [
        "print(\"Подсчитаем количество единичек в первом блоке - \", len([v for v in xTrain01[0] if v == 1]))"
      ]
    },
    {
      "cell_type": "code",
      "execution_count": null,
      "metadata": {
        "colab": {
          "base_uri": "https://localhost:8080/",
          "height": 1000
        },
        "id": "FyWWgRRCusxf",
        "outputId": "9ab825fc-67bc-49fe-eecc-6b0d9cc26182"
      },
      "outputs": [
        {
          "output_type": "stream",
          "name": "stdout",
          "text": [
            "Epoch 1/20\n",
            "51/51 [==============================] - 8s 135ms/step - loss: 0.2543 - accuracy: 0.9642 - val_loss: 0.6889 - val_accuracy: 0.9506\n",
            "Epoch 2/20\n",
            "51/51 [==============================] - 6s 112ms/step - loss: 0.0989 - accuracy: 0.9966 - val_loss: 0.7859 - val_accuracy: 0.8809\n",
            "Epoch 3/20\n",
            "51/51 [==============================] - 5s 95ms/step - loss: 0.0657 - accuracy: 0.9978 - val_loss: 0.7742 - val_accuracy: 0.9353\n",
            "Epoch 4/20\n",
            "51/51 [==============================] - 5s 93ms/step - loss: 0.0493 - accuracy: 0.9986 - val_loss: 0.6363 - val_accuracy: 0.9506\n",
            "Epoch 5/20\n",
            "51/51 [==============================] - 7s 133ms/step - loss: 0.0413 - accuracy: 0.9977 - val_loss: 0.5458 - val_accuracy: 0.9506\n",
            "Epoch 6/20\n",
            "51/51 [==============================] - 5s 94ms/step - loss: 0.0330 - accuracy: 0.9981 - val_loss: 0.4315 - val_accuracy: 0.9568\n",
            "Epoch 7/20\n",
            "51/51 [==============================] - 5s 93ms/step - loss: 0.0273 - accuracy: 0.9989 - val_loss: 0.3511 - val_accuracy: 0.9588\n",
            "Epoch 8/20\n",
            "51/51 [==============================] - 6s 122ms/step - loss: 0.0242 - accuracy: 0.9985 - val_loss: 0.3062 - val_accuracy: 0.9620\n",
            "Epoch 9/20\n",
            "51/51 [==============================] - 5s 93ms/step - loss: 0.0206 - accuracy: 0.9989 - val_loss: 0.2602 - val_accuracy: 0.9648\n",
            "Epoch 10/20\n",
            "51/51 [==============================] - 4s 84ms/step - loss: 0.0175 - accuracy: 0.9991 - val_loss: 0.2383 - val_accuracy: 0.9648\n",
            "Epoch 11/20\n",
            "51/51 [==============================] - 6s 119ms/step - loss: 0.0177 - accuracy: 0.9981 - val_loss: 0.2162 - val_accuracy: 0.9685\n",
            "Epoch 12/20\n",
            "51/51 [==============================] - 4s 87ms/step - loss: 0.0144 - accuracy: 0.9992 - val_loss: 0.2040 - val_accuracy: 0.9676\n",
            "Epoch 13/20\n",
            "51/51 [==============================] - 5s 94ms/step - loss: 0.0133 - accuracy: 0.9989 - val_loss: 0.1833 - val_accuracy: 0.9691\n",
            "Epoch 14/20\n",
            "51/51 [==============================] - 6s 112ms/step - loss: 0.0122 - accuracy: 0.9985 - val_loss: 0.1786 - val_accuracy: 0.9721\n",
            "Epoch 15/20\n",
            "51/51 [==============================] - 5s 101ms/step - loss: 0.0119 - accuracy: 0.9991 - val_loss: 0.1721 - val_accuracy: 0.9730\n",
            "Epoch 16/20\n",
            "51/51 [==============================] - 5s 92ms/step - loss: 0.0108 - accuracy: 0.9995 - val_loss: 0.1602 - val_accuracy: 0.9727\n",
            "Epoch 17/20\n",
            "51/51 [==============================] - 6s 112ms/step - loss: 0.0099 - accuracy: 0.9995 - val_loss: 0.1531 - val_accuracy: 0.9761\n",
            "Epoch 18/20\n",
            "51/51 [==============================] - 5s 99ms/step - loss: 0.0096 - accuracy: 0.9991 - val_loss: 0.1436 - val_accuracy: 0.9750\n",
            "Epoch 19/20\n",
            "51/51 [==============================] - 5s 91ms/step - loss: 0.0092 - accuracy: 0.9988 - val_loss: 0.1318 - val_accuracy: 0.9765\n",
            "Epoch 20/20\n",
            "51/51 [==============================] - 6s 112ms/step - loss: 0.0094 - accuracy: 0.9988 - val_loss: 0.1226 - val_accuracy: 0.9739\n"
          ]
        },
        {
          "output_type": "display_data",
          "data": {
            "text/plain": [
              "<Figure size 640x480 with 1 Axes>"
            ],
            "image/png": "[encoded data removed]"
          },
          "metadata": {}
        }
      ],
      "source": [
        "#Создаём полносвязную сеть (FeedForward Neural Network)\n",
        "model01 = Sequential()\n",
        "model01.add(BatchNormalization())\n",
        "model01.add(Dense(30, input_dim=maxWordsCount, activation=\"relu\"))\n",
        "model01.add(Dropout(0.4))\n",
        "model01.add(BatchNormalization())\n",
        "model01.add(Dense(len(trainText), activation='sigmoid'))\n",
        "model01.compile(optimizer='adam', \n",
        "              loss='categorical_crossentropy', \n",
        "              metrics=['accuracy'])\n",
        "#Обучаем сеть на выборке, сформированной по bag of words - xTrain01\n",
        "history = model01.fit(xTrain01, \n",
        "                      yTrain, \n",
        "                      epochs=20,\n",
        "                      batch_size=128,\n",
        "                      validation_data=(xTest01,yTest)\n",
        "                      )\n",
        "plt.plot(history.history['accuracy'], label='Доля верных ответов на обучающем наборе')\n",
        "plt.plot(history.history['val_accuracy'], label='Доля верных ответов на проверочном наборе')\n",
        "plt.xlabel('Эпоха обучения')\n",
        "plt.ylabel('Доля верных ответов')\n",
        "plt.legend()\n",
        "plt.show()\n"
      ]
    },
    {
      "cell_type": "code",
      "execution_count": null,
      "metadata": {
        "colab": {
          "base_uri": "https://localhost:8080/"
        },
        "id": "9vHmbzBnqTpP",
        "outputId": "7fe2bd12-5a13-4a25-9e17-a6843f80db28"
      },
      "outputs": [
        {
          "output_type": "stream",
          "name": "stdout",
          "text": [
            "Model: \"sequential_1\"\n",
            "_________________________________________________________________\n",
            " Layer (type)                Output Shape              Param #   \n",
            "=================================================================\n",
            " batch_normalization_2 (Batc  (None, 30000)            120000    \n",
            " hNormalization)                                                 \n",
            "                                                                 \n",
            " dense_2 (Dense)             (None, 30)                900030    \n",
            "                                                                 \n",
            " dropout_1 (Dropout)         (None, 30)                0         \n",
            "                                                                 \n",
            " batch_normalization_3 (Batc  (None, 30)               120       \n",
            " hNormalization)                                                 \n",
            "                                                                 \n",
            " dense_3 (Dense)             (None, 6)                 186       \n",
            "                                                                 \n",
            "=================================================================\n",
            "Total params: 1,020,336\n",
            "Trainable params: 960,276\n",
            "Non-trainable params: 60,060\n",
            "_________________________________________________________________\n"
          ]
        }
      ],
      "source": [
        "model01.summary()"
      ]
    },
    {
      "cell_type": "code",
      "execution_count": null,
      "metadata": {
        "colab": {
          "base_uri": "https://localhost:8080/"
        },
        "id": "pK3GaqL0vUHG",
        "outputId": "f7512ff5-f2ef-4cc2-b954-b9b36095bb91"
      },
      "outputs": [
        {
          "output_type": "stream",
          "name": "stdout",
          "text": [
            "Source text: с шолохов михаил тихий дон (книга 3 и 4) михаил шолохов тихий дон (книга 3,4) как ты, батюшка, славн\n",
            "Indexes: [6, 962, 542, 1189, 1056, 1989, 1, 1463, 962, 542]\n",
            "205348\n",
            "Number of text blocks of xLen: 1984\n",
            "62/62 [==============================] - 1s 8ms/step\n",
            "(1984, 6)\n",
            "[[0.5983258  0.20427506 0.3522615  0.22990501 0.9958618  0.69637907]\n",
            " [0.59942794 0.19963832 0.35531345 0.23552325 0.9960548  0.68534625]]\n",
            "[4 4 4 ... 4 4 4]\n"
          ]
        }
      ],
      "source": [
        "def prepareTextForRecognition(testText, xLen, shift): #функция принимает последовательность индексов, размер окна, смещение окна\n",
        "  testWordIndexes = tokenizer.texts_to_sequences([testText]) \n",
        "  print(\"Source text:\",testText[:100])\n",
        "  print(\"Indexes:\",testWordIndexes[0][:10])\n",
        "  print(len(testWordIndexes[0]))\n",
        "  sample = getSetFromIndexes(testWordIndexes[0], xLen, shift)\n",
        "  print(\"Number of text blocks of xLen:\", len(sample))\n",
        "  xTest = tokenizer.sequences_to_matrix(sample)\n",
        " \n",
        "  return np.array(xTest)\n",
        "\n",
        "srcTextBOW = prepareTextForRecognition(testText[4], xLen, shift)\n",
        "#Получаем результаты распознавания класса по блокам слов длины xLen\n",
        "currPred = model01.predict(srcTextBOW)\n",
        "print(currPred.shape)\n",
        "print(currPred[:2])\n",
        "#Определяем номер распознанного класса для каждого блока слов длины xLen\n",
        "currOut = np.argmax(currPred, axis=1)\n",
        "print(currOut)"
      ]
    },
    {
      "cell_type": "code",
      "execution_count": null,
      "metadata": {
        "colab": {
          "base_uri": "https://localhost:8080/"
        },
        "id": "cfTkuD_27TTG",
        "outputId": "51f2b728-dfc9-4c5a-f73d-8b2eac165d3b"
      },
      "outputs": [
        {
          "output_type": "stream",
          "name": "stdout",
          "text": [
            "[0.0, 0.0, 0.0, 0.0, 1.0, 0.0]\n",
            "Текст написан: Михаил Шолохов с вероятностью 1.0\n"
          ]
        }
      ],
      "source": [
        "probability = [0]*nClasses\n",
        "for i in range(len(testText)): #Проходим по всем 6 классам и считаем вероятность отнесения текста к каждому из классов\n",
        "  probability[i] = np.count_nonzero(currOut == i)/len(currOut)\n",
        "print(probability)\n",
        "recognizedClass = np.argmax(probability)\n",
        "print(\"Текст написан:\", className[recognizedClass], \"с вероятностью\", probability[recognizedClass])"
      ]
    },
    {
      "cell_type": "code",
      "execution_count": null,
      "metadata": {
        "colab": {
          "base_uri": "https://localhost:8080/"
        },
        "id": "dOTmMRX7Izo2",
        "outputId": "2f51b9e2-12e0-44ba-d7a1-65d9277b8dc3"
      },
      "outputs": [
        {
          "name": "stdout",
          "output_type": "stream",
          "text": [
            "\u001b[?25l     \u001b[90m━━━━━━━━━━━━━━━━━━━━━━━━━━━━━━━━━━━━━━━━\u001b[0m \u001b[32m0.0/1.6 MB\u001b[0m \u001b[31m?\u001b[0m eta \u001b[36m-:--:--\u001b[0m\r\u001b[2K     \u001b[91m━━━━━━━\u001b[0m\u001b[90m╺\u001b[0m\u001b[90m━━━━━━━━━━━━━━━━━━━━━━━━━━━━━━━━\u001b[0m \u001b[32m0.3/1.6 MB\u001b[0m \u001b[31m8.7 MB/s\u001b[0m eta \u001b[36m0:00:01\u001b[0m\r\u001b[2K     \u001b[91m━━━━━━━━━━━━━━━━━━━━━━━━━━━━━━━━━━━━━━━\u001b[0m\u001b[91m╸\u001b[0m \u001b[32m1.6/1.6 MB\u001b[0m \u001b[31m27.1 MB/s\u001b[0m eta \u001b[36m0:00:01\u001b[0m\r\u001b[2K     \u001b[90m━━━━━━━━━━━━━━━━━━━━━━━━━━━━━━━━━━━━━━━━\u001b[0m \u001b[32m1.6/1.6 MB\u001b[0m \u001b[31m19.9 MB/s\u001b[0m eta \u001b[36m0:00:00\u001b[0m\n",
            "\u001b[?25h"
          ]
        }
      ],
      "source": [
        "!pip install -Uqq ipdb\n",
        "import ipdb"
      ]
    },
    {
      "cell_type": "code",
      "execution_count": null,
      "metadata": {
        "id": "tmPYddh7ZkeP"
      },
      "outputs": [],
      "source": [
        "#%pdb on\n",
        "###########################\n",
        "# Представляем тестовую выборку в удобных для распознавания размерах\n",
        "##########################\n",
        "def createTestMultiClasses(wordIndexes, xLen, step): #функция принимает последовательность индексов, размер окна, шаг окна\n",
        "\n",
        "  #Для каждого из 6 классов\n",
        "  #Создаём тестовую выборку из индексов\n",
        "  nClasses = len(wordIndexes) #задаем количество классов\n",
        "  xTest6Classes01 = []                #здесь будет список из всех классов,каждый размером \"кол-во окон в тексте * 20000(при maxWordsCount=20000)\"\n",
        "  xTest6Classes = []                 #здесь будет список массивов, каждый размером \"кол-во окон в тексте * длину окна\"(6 по 420*1000)\n",
        "  for wI in wordIndexes:                       #для каждого тестового текста из последовательности индексов\n",
        "    sample = (getSetFromIndexes(wI, xLen, step)) #тестовая выборка размером \"кол-во окон*длину окна\"(например 420*1000)\n",
        "    xTest6Classes.append(np.array(sample))              #переводим в массив numpy и добавляем в список\n",
        "    xTest6Classes01.append(tokenizer.sequences_to_matrix(sample)) #трансформируется в Bag of Words в виде \"кол-во окон в тексте * 20000\"\n",
        "\n",
        "  return xTest6Classes01, xTest6Classes  #функция вернёт тестовые данные: TestBg 6 классов на n*20000 и xTestEm 6 по n*1000\n",
        "\n",
        "###########################\n",
        "# Расспознаём тестовую выборку и выводим результаты\n",
        "##########################\n",
        "def recognizeMultiClass(model, xTest, modelName):\n",
        "  print(\"НЕЙРОНКА: \", modelName)\n",
        "  print()\n",
        "  \n",
        "  val = []\n",
        "  pred = []\n",
        "  \n",
        "  totalSumRec = []\n",
        "  \n",
        "  #Проходим по всем классам\n",
        "  for i in range(nClasses):\n",
        "    #Получаем результаты распознавания класса по блокам слов длины xLen\n",
        "    currPred = model.predict(xTest[i])\n",
        "    pred.append(currPred)\n",
        "    #Определяем номер распознанного класса для каждохо блока слов длины xLen\n",
        "    currOut = np.argmax(currPred, axis=1)\n",
        "    \n",
        "    #Считаем процент распознавания каждого класса за каждый\n",
        "    #Получам матрицу 6 на 6\n",
        "    evVal = []\n",
        "    sumRec = []\n",
        "    for j in range(nClasses):\n",
        "      sumRec.append(0)\n",
        "      for t in range(len(currOut)):\n",
        "        if (currOut[t] == j):\n",
        "          sumRec[j] += 1\n",
        "      evVal.append(sumRec[j] / len(currOut))\n",
        "    \n",
        "    totalSumRec.append(sumRec[i])\n",
        "    \n",
        "    #Определяем, какой в класс в итоге за какой был распознан\n",
        "    val.append(evVal[i])\n",
        "    recognizedClass = np.argmax(evVal)\n",
        "    \n",
        "    #Выводим результаты распознавания по текущему классу\n",
        "    isRecognized = \"распознано НЕ ВЕРНО!\"\n",
        "    if (recognizedClass == i):\n",
        "      isRecognized = \"распознано ВЕРНО!\"\n",
        "    print(className[i], \" распознано \", int(100*evVal[i]), \"% сеть считает, что это \", className[recognizedClass], \", \", isRecognized)\n",
        "  \n",
        "  #Выводим вредний процент распознавания по всем классам вместе\n",
        "  print()\n",
        "  sumVal = 0\n",
        "  sumCount = 0\n",
        "  lenXtest = []\n",
        "  for i in range(nClasses):\n",
        "    sumCount += len(xTest[i])\n",
        "    sumVal += totalSumRec[i]\n",
        "  print(\"Средний процент распознавания \", int(100*sumVal/sumCount), \"%\")\n",
        "    \n",
        "  print()\n",
        "  \n",
        "  return sumVal/sumCount\n",
        "\n",
        "xTest6Classes01, xTest6Classes = createTestMultiClasses(testWordIndexes, xLen, shift)"
      ]
    },
    {
      "cell_type": "code",
      "execution_count": null,
      "metadata": {
        "colab": {
          "base_uri": "https://localhost:8080/"
        },
        "id": "Ku_G2sfEZl-W",
        "outputId": "537ec287-797d-4a21-ea95-a512b8ba41c7"
      },
      "outputs": [
        {
          "output_type": "stream",
          "name": "stdout",
          "text": [
            "НЕЙРОНКА:  Тексты 01 + Dense\n",
            "\n",
            "10/10 [==============================] - 0s 10ms/step\n",
            "Александр Серафимович  распознано  47 % сеть считает, что это  Александр Серафимович ,  распознано ВЕРНО!\n",
            "21/21 [==============================] - 0s 12ms/step\n",
            "Андрей Платонов  распознано  100 % сеть считает, что это  Андрей Платонов ,  распознано ВЕРНО!\n",
            "84/84 [==============================] - 1s 10ms/step\n",
            "Максим Горький  распознано  100 % сеть считает, что это  Максим Горький ,  распознано ВЕРНО!\n",
            "5/5 [==============================] - 0s 9ms/step\n",
            "Михаил Булгаков  распознано  100 % сеть считает, что это  Михаил Булгаков ,  распознано ВЕРНО!\n",
            "62/62 [==============================] - 1s 10ms/step\n",
            "Михаил Шолохов  распознано  100 % сеть считает, что это  Михаил Шолохов ,  распознано ВЕРНО!\n",
            "23/23 [==============================] - 0s 6ms/step\n",
            "Федор Крюков  распознано  100 % сеть считает, что это  Федор Крюков ,  распознано ВЕРНО!\n",
            "\n",
            "Средний процент распознавания  97 %\n",
            "\n"
          ]
        }
      ],
      "source": [
        "#Проверяем точность нейронки обученной на bag of words\n",
        "pred = recognizeMultiClass(model01, xTest6Classes01, \"Тексты 01 + Dense\")"
      ]
    },
    {
      "cell_type": "markdown",
      "metadata": {
        "id": "qHNmerMJZ741"
      },
      "source": [
        "# Новый раздел"
      ]
    }
  ],
  "metadata": {
    "accelerator": "TPU",
    "colab": {
      "provenance": [],
      "authorship_tag": "ABX9TyNo6SR/1rhIAUYl3d6d5Q2K",
      "include_colab_link": true
    },
    "gpuClass": "standard",
    "kernelspec": {
      "display_name": "Python 3",
      "name": "python3"
    },
    "language_info": {
      "name": "python"
    }
  },
  "nbformat": 4,
  "nbformat_minor": 0
}